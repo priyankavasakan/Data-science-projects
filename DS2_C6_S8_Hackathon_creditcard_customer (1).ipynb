{
  "nbformat": 4,
  "nbformat_minor": 0,
  "metadata": {
    "colab": {
      "name": "DS2_C6_S8_Hackathon_creditcard_customer.ipynb",
      "provenance": [],
      "collapsed_sections": []
    },
    "kernelspec": {
      "name": "python3",
      "display_name": "Python 3"
    },
    "language_info": {
      "name": "python"
    }
  },
  "cells": [
    {
      "cell_type": "code",
      "source": [
        "#Mount the drive"
      ],
      "metadata": {
        "id": "cqIcvNExzKPx"
      },
      "execution_count": null,
      "outputs": []
    },
    {
      "cell_type": "code",
      "execution_count": 1,
      "metadata": {
        "colab": {
          "base_uri": "https://localhost:8080/"
        },
        "id": "taNg_-lwopYa",
        "outputId": "4f3bb9d3-3862-4c8b-e10c-e99543bfd5a0"
      },
      "outputs": [
        {
          "output_type": "stream",
          "name": "stdout",
          "text": [
            "Mounted at /content/drive\n"
          ]
        }
      ],
      "source": [
        "from google.colab import drive\n",
        "drive.mount('/content/drive')"
      ]
    },
    {
      "cell_type": "code",
      "source": [
        "#Install the necessary library"
      ],
      "metadata": {
        "id": "OCKiiBbVzN4A"
      },
      "execution_count": null,
      "outputs": []
    },
    {
      "cell_type": "code",
      "source": [
        "!pip install hdbscan"
      ],
      "metadata": {
        "colab": {
          "base_uri": "https://localhost:8080/"
        },
        "id": "FX-8GcfUokad",
        "outputId": "f7a4c1d6-e670-4d4a-e4c5-527b95337149"
      },
      "execution_count": 2,
      "outputs": [
        {
          "output_type": "stream",
          "name": "stdout",
          "text": [
            "Collecting hdbscan\n",
            "  Downloading hdbscan-0.8.27.tar.gz (6.4 MB)\n",
            "\u001b[K     |████████████████████████████████| 6.4 MB 7.0 MB/s \n",
            "\u001b[?25h  Installing build dependencies ... \u001b[?25l\u001b[?25hdone\n",
            "  Getting requirements to build wheel ... \u001b[?25l\u001b[?25hdone\n",
            "    Preparing wheel metadata ... \u001b[?25l\u001b[?25hdone\n",
            "Requirement already satisfied: scikit-learn>=0.20 in /usr/local/lib/python3.7/dist-packages (from hdbscan) (1.0.2)\n",
            "Requirement already satisfied: six in /usr/local/lib/python3.7/dist-packages (from hdbscan) (1.15.0)\n",
            "Requirement already satisfied: cython>=0.27 in /usr/local/lib/python3.7/dist-packages (from hdbscan) (0.29.26)\n",
            "Requirement already satisfied: numpy>=1.16 in /usr/local/lib/python3.7/dist-packages (from hdbscan) (1.19.5)\n",
            "Requirement already satisfied: scipy>=1.0 in /usr/local/lib/python3.7/dist-packages (from hdbscan) (1.4.1)\n",
            "Requirement already satisfied: joblib>=1.0 in /usr/local/lib/python3.7/dist-packages (from hdbscan) (1.1.0)\n",
            "Requirement already satisfied: threadpoolctl>=2.0.0 in /usr/local/lib/python3.7/dist-packages (from scikit-learn>=0.20->hdbscan) (3.0.0)\n",
            "Building wheels for collected packages: hdbscan\n",
            "  Building wheel for hdbscan (PEP 517) ... \u001b[?25l\u001b[?25hdone\n",
            "  Created wheel for hdbscan: filename=hdbscan-0.8.27-cp37-cp37m-linux_x86_64.whl size=2311953 sha256=ec96d25031d026efb48750307d6fccf3b9a7bd91f867940e78dc76006c9042fe\n",
            "  Stored in directory: /root/.cache/pip/wheels/73/5f/2f/9a259b84003b84847c259779206acecabb25ab56f1506ee72b\n",
            "Successfully built hdbscan\n",
            "Installing collected packages: hdbscan\n",
            "Successfully installed hdbscan-0.8.27\n"
          ]
        }
      ]
    },
    {
      "cell_type": "code",
      "source": [
        "import numpy as np\n",
        "import pandas as pd\n",
        "import seaborn as sns\n",
        "import hdbscan\n",
        "import matplotlib.pyplot as plt\n",
        "from sklearn.preprocessing import MinMaxScaler, StandardScaler\n",
        "from sklearn.cluster import DBSCAN, KMeans, AgglomerativeClustering\n",
        "from sklearn.decomposition import PCA\n",
        "from sklearn.manifold import TSNE\n",
        "from sklearn.metrics import silhouette_score\n",
        "from sklearn.pipeline import Pipeline"
      ],
      "metadata": {
        "id": "QlR9z5jWpOxQ"
      },
      "execution_count": 3,
      "outputs": []
    },
    {
      "cell_type": "code",
      "source": [
        "#Read the csv file and create the dataframe"
      ],
      "metadata": {
        "id": "l_SAEmM_zUlk"
      },
      "execution_count": null,
      "outputs": []
    },
    {
      "cell_type": "code",
      "source": [
        "df = pd.read_csv('/content/drive/MyDrive/ML/cards.csv')\n",
        "df.head()\n"
      ],
      "metadata": {
        "colab": {
          "base_uri": "https://localhost:8080/",
          "height": 270
        },
        "id": "81KBCzaKpboi",
        "outputId": "58c9b647-cabb-48ab-8661-34659566f7e2"
      },
      "execution_count": 4,
      "outputs": [
        {
          "output_type": "execute_result",
          "data": {
            "text/html": [
              "\n",
              "  <div id=\"df-13f6e6b0-c892-42e1-aa10-e30ebe67cd7c\">\n",
              "    <div class=\"colab-df-container\">\n",
              "      <div>\n",
              "<style scoped>\n",
              "    .dataframe tbody tr th:only-of-type {\n",
              "        vertical-align: middle;\n",
              "    }\n",
              "\n",
              "    .dataframe tbody tr th {\n",
              "        vertical-align: top;\n",
              "    }\n",
              "\n",
              "    .dataframe thead th {\n",
              "        text-align: right;\n",
              "    }\n",
              "</style>\n",
              "<table border=\"1\" class=\"dataframe\">\n",
              "  <thead>\n",
              "    <tr style=\"text-align: right;\">\n",
              "      <th></th>\n",
              "      <th>CUST_ID</th>\n",
              "      <th>BALANCE</th>\n",
              "      <th>BALANCE_FREQUENCY</th>\n",
              "      <th>PURCHASES</th>\n",
              "      <th>ONEOFF_PURCHASES</th>\n",
              "      <th>INSTALLMENTS_PURCHASES</th>\n",
              "      <th>CASH_ADVANCE</th>\n",
              "      <th>PURCHASES_FREQUENCY</th>\n",
              "      <th>ONEOFF_PURCHASES_FREQUENCY</th>\n",
              "      <th>PURCHASES_INSTALLMENTS_FREQUENCY</th>\n",
              "      <th>CASH_ADVANCE_FREQUENCY</th>\n",
              "      <th>CASH_ADVANCE_TRX</th>\n",
              "      <th>PURCHASES_TRX</th>\n",
              "      <th>CREDIT_LIMIT</th>\n",
              "      <th>PAYMENTS</th>\n",
              "      <th>MINIMUM_PAYMENTS</th>\n",
              "      <th>PRC_FULL_PAYMENT</th>\n",
              "      <th>TENURE</th>\n",
              "    </tr>\n",
              "  </thead>\n",
              "  <tbody>\n",
              "    <tr>\n",
              "      <th>0</th>\n",
              "      <td>C10001</td>\n",
              "      <td>40.900749</td>\n",
              "      <td>0.818182</td>\n",
              "      <td>95.40</td>\n",
              "      <td>0.00</td>\n",
              "      <td>95.4</td>\n",
              "      <td>0.000000</td>\n",
              "      <td>0.166667</td>\n",
              "      <td>0.000000</td>\n",
              "      <td>0.083333</td>\n",
              "      <td>0.000000</td>\n",
              "      <td>0</td>\n",
              "      <td>2</td>\n",
              "      <td>1000.0</td>\n",
              "      <td>201.802084</td>\n",
              "      <td>139.509787</td>\n",
              "      <td>0.000000</td>\n",
              "      <td>12</td>\n",
              "    </tr>\n",
              "    <tr>\n",
              "      <th>1</th>\n",
              "      <td>C10002</td>\n",
              "      <td>3202.467416</td>\n",
              "      <td>0.909091</td>\n",
              "      <td>0.00</td>\n",
              "      <td>0.00</td>\n",
              "      <td>0.0</td>\n",
              "      <td>6442.945483</td>\n",
              "      <td>0.000000</td>\n",
              "      <td>0.000000</td>\n",
              "      <td>0.000000</td>\n",
              "      <td>0.250000</td>\n",
              "      <td>4</td>\n",
              "      <td>0</td>\n",
              "      <td>7000.0</td>\n",
              "      <td>4103.032597</td>\n",
              "      <td>1072.340217</td>\n",
              "      <td>0.222222</td>\n",
              "      <td>12</td>\n",
              "    </tr>\n",
              "    <tr>\n",
              "      <th>2</th>\n",
              "      <td>C10003</td>\n",
              "      <td>2495.148862</td>\n",
              "      <td>1.000000</td>\n",
              "      <td>773.17</td>\n",
              "      <td>773.17</td>\n",
              "      <td>0.0</td>\n",
              "      <td>0.000000</td>\n",
              "      <td>1.000000</td>\n",
              "      <td>1.000000</td>\n",
              "      <td>0.000000</td>\n",
              "      <td>0.000000</td>\n",
              "      <td>0</td>\n",
              "      <td>12</td>\n",
              "      <td>7500.0</td>\n",
              "      <td>622.066742</td>\n",
              "      <td>627.284787</td>\n",
              "      <td>0.000000</td>\n",
              "      <td>12</td>\n",
              "    </tr>\n",
              "    <tr>\n",
              "      <th>3</th>\n",
              "      <td>C10004</td>\n",
              "      <td>1666.670542</td>\n",
              "      <td>0.636364</td>\n",
              "      <td>1499.00</td>\n",
              "      <td>1499.00</td>\n",
              "      <td>0.0</td>\n",
              "      <td>205.788017</td>\n",
              "      <td>0.083333</td>\n",
              "      <td>0.083333</td>\n",
              "      <td>0.000000</td>\n",
              "      <td>0.083333</td>\n",
              "      <td>1</td>\n",
              "      <td>1</td>\n",
              "      <td>7500.0</td>\n",
              "      <td>0.000000</td>\n",
              "      <td>NaN</td>\n",
              "      <td>0.000000</td>\n",
              "      <td>12</td>\n",
              "    </tr>\n",
              "    <tr>\n",
              "      <th>4</th>\n",
              "      <td>C10005</td>\n",
              "      <td>817.714335</td>\n",
              "      <td>1.000000</td>\n",
              "      <td>16.00</td>\n",
              "      <td>16.00</td>\n",
              "      <td>0.0</td>\n",
              "      <td>0.000000</td>\n",
              "      <td>0.083333</td>\n",
              "      <td>0.083333</td>\n",
              "      <td>0.000000</td>\n",
              "      <td>0.000000</td>\n",
              "      <td>0</td>\n",
              "      <td>1</td>\n",
              "      <td>1200.0</td>\n",
              "      <td>678.334763</td>\n",
              "      <td>244.791237</td>\n",
              "      <td>0.000000</td>\n",
              "      <td>12</td>\n",
              "    </tr>\n",
              "  </tbody>\n",
              "</table>\n",
              "</div>\n",
              "      <button class=\"colab-df-convert\" onclick=\"convertToInteractive('df-13f6e6b0-c892-42e1-aa10-e30ebe67cd7c')\"\n",
              "              title=\"Convert this dataframe to an interactive table.\"\n",
              "              style=\"display:none;\">\n",
              "        \n",
              "  <svg xmlns=\"http://www.w3.org/2000/svg\" height=\"24px\"viewBox=\"0 0 24 24\"\n",
              "       width=\"24px\">\n",
              "    <path d=\"M0 0h24v24H0V0z\" fill=\"none\"/>\n",
              "    <path d=\"M18.56 5.44l.94 2.06.94-2.06 2.06-.94-2.06-.94-.94-2.06-.94 2.06-2.06.94zm-11 1L8.5 8.5l.94-2.06 2.06-.94-2.06-.94L8.5 2.5l-.94 2.06-2.06.94zm10 10l.94 2.06.94-2.06 2.06-.94-2.06-.94-.94-2.06-.94 2.06-2.06.94z\"/><path d=\"M17.41 7.96l-1.37-1.37c-.4-.4-.92-.59-1.43-.59-.52 0-1.04.2-1.43.59L10.3 9.45l-7.72 7.72c-.78.78-.78 2.05 0 2.83L4 21.41c.39.39.9.59 1.41.59.51 0 1.02-.2 1.41-.59l7.78-7.78 2.81-2.81c.8-.78.8-2.07 0-2.86zM5.41 20L4 18.59l7.72-7.72 1.47 1.35L5.41 20z\"/>\n",
              "  </svg>\n",
              "      </button>\n",
              "      \n",
              "  <style>\n",
              "    .colab-df-container {\n",
              "      display:flex;\n",
              "      flex-wrap:wrap;\n",
              "      gap: 12px;\n",
              "    }\n",
              "\n",
              "    .colab-df-convert {\n",
              "      background-color: #E8F0FE;\n",
              "      border: none;\n",
              "      border-radius: 50%;\n",
              "      cursor: pointer;\n",
              "      display: none;\n",
              "      fill: #1967D2;\n",
              "      height: 32px;\n",
              "      padding: 0 0 0 0;\n",
              "      width: 32px;\n",
              "    }\n",
              "\n",
              "    .colab-df-convert:hover {\n",
              "      background-color: #E2EBFA;\n",
              "      box-shadow: 0px 1px 2px rgba(60, 64, 67, 0.3), 0px 1px 3px 1px rgba(60, 64, 67, 0.15);\n",
              "      fill: #174EA6;\n",
              "    }\n",
              "\n",
              "    [theme=dark] .colab-df-convert {\n",
              "      background-color: #3B4455;\n",
              "      fill: #D2E3FC;\n",
              "    }\n",
              "\n",
              "    [theme=dark] .colab-df-convert:hover {\n",
              "      background-color: #434B5C;\n",
              "      box-shadow: 0px 1px 3px 1px rgba(0, 0, 0, 0.15);\n",
              "      filter: drop-shadow(0px 1px 2px rgba(0, 0, 0, 0.3));\n",
              "      fill: #FFFFFF;\n",
              "    }\n",
              "  </style>\n",
              "\n",
              "      <script>\n",
              "        const buttonEl =\n",
              "          document.querySelector('#df-13f6e6b0-c892-42e1-aa10-e30ebe67cd7c button.colab-df-convert');\n",
              "        buttonEl.style.display =\n",
              "          google.colab.kernel.accessAllowed ? 'block' : 'none';\n",
              "\n",
              "        async function convertToInteractive(key) {\n",
              "          const element = document.querySelector('#df-13f6e6b0-c892-42e1-aa10-e30ebe67cd7c');\n",
              "          const dataTable =\n",
              "            await google.colab.kernel.invokeFunction('convertToInteractive',\n",
              "                                                     [key], {});\n",
              "          if (!dataTable) return;\n",
              "\n",
              "          const docLinkHtml = 'Like what you see? Visit the ' +\n",
              "            '<a target=\"_blank\" href=https://colab.research.google.com/notebooks/data_table.ipynb>data table notebook</a>'\n",
              "            + ' to learn more about interactive tables.';\n",
              "          element.innerHTML = '';\n",
              "          dataTable['output_type'] = 'display_data';\n",
              "          await google.colab.output.renderOutput(dataTable, element);\n",
              "          const docLink = document.createElement('div');\n",
              "          docLink.innerHTML = docLinkHtml;\n",
              "          element.appendChild(docLink);\n",
              "        }\n",
              "      </script>\n",
              "    </div>\n",
              "  </div>\n",
              "  "
            ],
            "text/plain": [
              "  CUST_ID      BALANCE  ...  PRC_FULL_PAYMENT  TENURE\n",
              "0  C10001    40.900749  ...          0.000000      12\n",
              "1  C10002  3202.467416  ...          0.222222      12\n",
              "2  C10003  2495.148862  ...          0.000000      12\n",
              "3  C10004  1666.670542  ...          0.000000      12\n",
              "4  C10005   817.714335  ...          0.000000      12\n",
              "\n",
              "[5 rows x 18 columns]"
            ]
          },
          "metadata": {},
          "execution_count": 4
        }
      ]
    },
    {
      "cell_type": "code",
      "source": [
        "# Findout the missing values"
      ],
      "metadata": {
        "id": "NIiOFQstzbP7"
      },
      "execution_count": null,
      "outputs": []
    },
    {
      "cell_type": "code",
      "source": [
        "df.isnull().sum()"
      ],
      "metadata": {
        "colab": {
          "base_uri": "https://localhost:8080/"
        },
        "id": "ubIyvQRXAGOM",
        "outputId": "8ac246f0-15df-4f82-f422-a8015fe8bb8f"
      },
      "execution_count": 5,
      "outputs": [
        {
          "output_type": "execute_result",
          "data": {
            "text/plain": [
              "CUST_ID                               0\n",
              "BALANCE                               0\n",
              "BALANCE_FREQUENCY                     0\n",
              "PURCHASES                             0\n",
              "ONEOFF_PURCHASES                      0\n",
              "INSTALLMENTS_PURCHASES                0\n",
              "CASH_ADVANCE                          0\n",
              "PURCHASES_FREQUENCY                   0\n",
              "ONEOFF_PURCHASES_FREQUENCY            0\n",
              "PURCHASES_INSTALLMENTS_FREQUENCY      0\n",
              "CASH_ADVANCE_FREQUENCY                0\n",
              "CASH_ADVANCE_TRX                      0\n",
              "PURCHASES_TRX                         0\n",
              "CREDIT_LIMIT                          1\n",
              "PAYMENTS                              0\n",
              "MINIMUM_PAYMENTS                    313\n",
              "PRC_FULL_PAYMENT                      0\n",
              "TENURE                                0\n",
              "dtype: int64"
            ]
          },
          "metadata": {},
          "execution_count": 5
        }
      ]
    },
    {
      "cell_type": "code",
      "source": [
        ""
      ],
      "metadata": {
        "id": "UUci7ZdUbY04"
      },
      "execution_count": null,
      "outputs": []
    },
    {
      "cell_type": "code",
      "source": [
        "# shape of the column"
      ],
      "metadata": {
        "id": "_f7xCuMGzfQq"
      },
      "execution_count": null,
      "outputs": []
    },
    {
      "cell_type": "code",
      "source": [
        "df.shape"
      ],
      "metadata": {
        "colab": {
          "base_uri": "https://localhost:8080/"
        },
        "id": "BHn_OsvApthC",
        "outputId": "89420625-fa0d-41c7-9de1-425e453be21f"
      },
      "execution_count": 6,
      "outputs": [
        {
          "output_type": "execute_result",
          "data": {
            "text/plain": [
              "(8950, 18)"
            ]
          },
          "metadata": {},
          "execution_count": 6
        }
      ]
    },
    {
      "cell_type": "code",
      "source": [
        "# columns name list"
      ],
      "metadata": {
        "id": "ZYM7nefYzi3N"
      },
      "execution_count": null,
      "outputs": []
    },
    {
      "cell_type": "code",
      "source": [
        "df.columns"
      ],
      "metadata": {
        "colab": {
          "base_uri": "https://localhost:8080/"
        },
        "id": "aQRPIogapv2s",
        "outputId": "c5382440-ebdd-4e4a-a7c3-9faedadff7e0"
      },
      "execution_count": 7,
      "outputs": [
        {
          "output_type": "execute_result",
          "data": {
            "text/plain": [
              "Index(['CUST_ID', 'BALANCE', 'BALANCE_FREQUENCY', 'PURCHASES',\n",
              "       'ONEOFF_PURCHASES', 'INSTALLMENTS_PURCHASES', 'CASH_ADVANCE',\n",
              "       'PURCHASES_FREQUENCY', 'ONEOFF_PURCHASES_FREQUENCY',\n",
              "       'PURCHASES_INSTALLMENTS_FREQUENCY', 'CASH_ADVANCE_FREQUENCY',\n",
              "       'CASH_ADVANCE_TRX', 'PURCHASES_TRX', 'CREDIT_LIMIT', 'PAYMENTS',\n",
              "       'MINIMUM_PAYMENTS', 'PRC_FULL_PAYMENT', 'TENURE'],\n",
              "      dtype='object')"
            ]
          },
          "metadata": {},
          "execution_count": 7
        }
      ]
    },
    {
      "cell_type": "code",
      "source": [
        "correlation values between numerical columns"
      ],
      "metadata": {
        "id": "jac3bSZ0znpG"
      },
      "execution_count": null,
      "outputs": []
    },
    {
      "cell_type": "code",
      "source": [
        "df.corr()"
      ],
      "metadata": {
        "colab": {
          "base_uri": "https://localhost:8080/",
          "height": 646
        },
        "id": "Q7YB817Rp3md",
        "outputId": "e0b7da21-f4a4-4329-db45-c18579e17525"
      },
      "execution_count": 8,
      "outputs": [
        {
          "output_type": "execute_result",
          "data": {
            "text/html": [
              "\n",
              "  <div id=\"df-ea574d41-e1f0-4670-80cc-3f73863139ff\">\n",
              "    <div class=\"colab-df-container\">\n",
              "      <div>\n",
              "<style scoped>\n",
              "    .dataframe tbody tr th:only-of-type {\n",
              "        vertical-align: middle;\n",
              "    }\n",
              "\n",
              "    .dataframe tbody tr th {\n",
              "        vertical-align: top;\n",
              "    }\n",
              "\n",
              "    .dataframe thead th {\n",
              "        text-align: right;\n",
              "    }\n",
              "</style>\n",
              "<table border=\"1\" class=\"dataframe\">\n",
              "  <thead>\n",
              "    <tr style=\"text-align: right;\">\n",
              "      <th></th>\n",
              "      <th>BALANCE</th>\n",
              "      <th>BALANCE_FREQUENCY</th>\n",
              "      <th>PURCHASES</th>\n",
              "      <th>ONEOFF_PURCHASES</th>\n",
              "      <th>INSTALLMENTS_PURCHASES</th>\n",
              "      <th>CASH_ADVANCE</th>\n",
              "      <th>PURCHASES_FREQUENCY</th>\n",
              "      <th>ONEOFF_PURCHASES_FREQUENCY</th>\n",
              "      <th>PURCHASES_INSTALLMENTS_FREQUENCY</th>\n",
              "      <th>CASH_ADVANCE_FREQUENCY</th>\n",
              "      <th>CASH_ADVANCE_TRX</th>\n",
              "      <th>PURCHASES_TRX</th>\n",
              "      <th>CREDIT_LIMIT</th>\n",
              "      <th>PAYMENTS</th>\n",
              "      <th>MINIMUM_PAYMENTS</th>\n",
              "      <th>PRC_FULL_PAYMENT</th>\n",
              "      <th>TENURE</th>\n",
              "    </tr>\n",
              "  </thead>\n",
              "  <tbody>\n",
              "    <tr>\n",
              "      <th>BALANCE</th>\n",
              "      <td>1.000000</td>\n",
              "      <td>0.322412</td>\n",
              "      <td>0.181261</td>\n",
              "      <td>0.164350</td>\n",
              "      <td>0.126469</td>\n",
              "      <td>0.496692</td>\n",
              "      <td>-0.077944</td>\n",
              "      <td>0.073166</td>\n",
              "      <td>-0.063186</td>\n",
              "      <td>0.449218</td>\n",
              "      <td>0.385152</td>\n",
              "      <td>0.154338</td>\n",
              "      <td>0.531283</td>\n",
              "      <td>0.322802</td>\n",
              "      <td>0.398684</td>\n",
              "      <td>-0.318959</td>\n",
              "      <td>0.072692</td>\n",
              "    </tr>\n",
              "    <tr>\n",
              "      <th>BALANCE_FREQUENCY</th>\n",
              "      <td>0.322412</td>\n",
              "      <td>1.000000</td>\n",
              "      <td>0.133674</td>\n",
              "      <td>0.104323</td>\n",
              "      <td>0.124292</td>\n",
              "      <td>0.099388</td>\n",
              "      <td>0.229715</td>\n",
              "      <td>0.202415</td>\n",
              "      <td>0.176079</td>\n",
              "      <td>0.191873</td>\n",
              "      <td>0.141555</td>\n",
              "      <td>0.189626</td>\n",
              "      <td>0.095843</td>\n",
              "      <td>0.065008</td>\n",
              "      <td>0.132569</td>\n",
              "      <td>-0.095082</td>\n",
              "      <td>0.119776</td>\n",
              "    </tr>\n",
              "    <tr>\n",
              "      <th>PURCHASES</th>\n",
              "      <td>0.181261</td>\n",
              "      <td>0.133674</td>\n",
              "      <td>1.000000</td>\n",
              "      <td>0.916845</td>\n",
              "      <td>0.679896</td>\n",
              "      <td>-0.051474</td>\n",
              "      <td>0.393017</td>\n",
              "      <td>0.498430</td>\n",
              "      <td>0.315567</td>\n",
              "      <td>-0.120143</td>\n",
              "      <td>-0.067175</td>\n",
              "      <td>0.689561</td>\n",
              "      <td>0.356963</td>\n",
              "      <td>0.603264</td>\n",
              "      <td>0.093860</td>\n",
              "      <td>0.180379</td>\n",
              "      <td>0.086288</td>\n",
              "    </tr>\n",
              "    <tr>\n",
              "      <th>ONEOFF_PURCHASES</th>\n",
              "      <td>0.164350</td>\n",
              "      <td>0.104323</td>\n",
              "      <td>0.916845</td>\n",
              "      <td>1.000000</td>\n",
              "      <td>0.330622</td>\n",
              "      <td>-0.031326</td>\n",
              "      <td>0.264937</td>\n",
              "      <td>0.524891</td>\n",
              "      <td>0.127729</td>\n",
              "      <td>-0.082628</td>\n",
              "      <td>-0.046212</td>\n",
              "      <td>0.545523</td>\n",
              "      <td>0.319724</td>\n",
              "      <td>0.567292</td>\n",
              "      <td>0.048755</td>\n",
              "      <td>0.132763</td>\n",
              "      <td>0.064150</td>\n",
              "    </tr>\n",
              "    <tr>\n",
              "      <th>INSTALLMENTS_PURCHASES</th>\n",
              "      <td>0.126469</td>\n",
              "      <td>0.124292</td>\n",
              "      <td>0.679896</td>\n",
              "      <td>0.330622</td>\n",
              "      <td>1.000000</td>\n",
              "      <td>-0.064244</td>\n",
              "      <td>0.442418</td>\n",
              "      <td>0.214042</td>\n",
              "      <td>0.511351</td>\n",
              "      <td>-0.132318</td>\n",
              "      <td>-0.073999</td>\n",
              "      <td>0.628108</td>\n",
              "      <td>0.256499</td>\n",
              "      <td>0.384084</td>\n",
              "      <td>0.132172</td>\n",
              "      <td>0.182569</td>\n",
              "      <td>0.086143</td>\n",
              "    </tr>\n",
              "    <tr>\n",
              "      <th>CASH_ADVANCE</th>\n",
              "      <td>0.496692</td>\n",
              "      <td>0.099388</td>\n",
              "      <td>-0.051474</td>\n",
              "      <td>-0.031326</td>\n",
              "      <td>-0.064244</td>\n",
              "      <td>1.000000</td>\n",
              "      <td>-0.215507</td>\n",
              "      <td>-0.086754</td>\n",
              "      <td>-0.177070</td>\n",
              "      <td>0.628522</td>\n",
              "      <td>0.656498</td>\n",
              "      <td>-0.075850</td>\n",
              "      <td>0.303985</td>\n",
              "      <td>0.453238</td>\n",
              "      <td>0.140107</td>\n",
              "      <td>-0.152935</td>\n",
              "      <td>-0.068312</td>\n",
              "    </tr>\n",
              "    <tr>\n",
              "      <th>PURCHASES_FREQUENCY</th>\n",
              "      <td>-0.077944</td>\n",
              "      <td>0.229715</td>\n",
              "      <td>0.393017</td>\n",
              "      <td>0.264937</td>\n",
              "      <td>0.442418</td>\n",
              "      <td>-0.215507</td>\n",
              "      <td>1.000000</td>\n",
              "      <td>0.501343</td>\n",
              "      <td>0.862934</td>\n",
              "      <td>-0.308478</td>\n",
              "      <td>-0.203478</td>\n",
              "      <td>0.568430</td>\n",
              "      <td>0.119788</td>\n",
              "      <td>0.103464</td>\n",
              "      <td>0.003030</td>\n",
              "      <td>0.305802</td>\n",
              "      <td>0.061506</td>\n",
              "    </tr>\n",
              "    <tr>\n",
              "      <th>ONEOFF_PURCHASES_FREQUENCY</th>\n",
              "      <td>0.073166</td>\n",
              "      <td>0.202415</td>\n",
              "      <td>0.498430</td>\n",
              "      <td>0.524891</td>\n",
              "      <td>0.214042</td>\n",
              "      <td>-0.086754</td>\n",
              "      <td>0.501343</td>\n",
              "      <td>1.000000</td>\n",
              "      <td>0.142329</td>\n",
              "      <td>-0.111716</td>\n",
              "      <td>-0.069088</td>\n",
              "      <td>0.544869</td>\n",
              "      <td>0.295038</td>\n",
              "      <td>0.243537</td>\n",
              "      <td>-0.030327</td>\n",
              "      <td>0.157531</td>\n",
              "      <td>0.082466</td>\n",
              "    </tr>\n",
              "    <tr>\n",
              "      <th>PURCHASES_INSTALLMENTS_FREQUENCY</th>\n",
              "      <td>-0.063186</td>\n",
              "      <td>0.176079</td>\n",
              "      <td>0.315567</td>\n",
              "      <td>0.127729</td>\n",
              "      <td>0.511351</td>\n",
              "      <td>-0.177070</td>\n",
              "      <td>0.862934</td>\n",
              "      <td>0.142329</td>\n",
              "      <td>1.000000</td>\n",
              "      <td>-0.262958</td>\n",
              "      <td>-0.169207</td>\n",
              "      <td>0.529975</td>\n",
              "      <td>0.060755</td>\n",
              "      <td>0.085551</td>\n",
              "      <td>0.030073</td>\n",
              "      <td>0.250087</td>\n",
              "      <td>0.073275</td>\n",
              "    </tr>\n",
              "    <tr>\n",
              "      <th>CASH_ADVANCE_FREQUENCY</th>\n",
              "      <td>0.449218</td>\n",
              "      <td>0.191873</td>\n",
              "      <td>-0.120143</td>\n",
              "      <td>-0.082628</td>\n",
              "      <td>-0.132318</td>\n",
              "      <td>0.628522</td>\n",
              "      <td>-0.308478</td>\n",
              "      <td>-0.111716</td>\n",
              "      <td>-0.262958</td>\n",
              "      <td>1.000000</td>\n",
              "      <td>0.799561</td>\n",
              "      <td>-0.131168</td>\n",
              "      <td>0.132616</td>\n",
              "      <td>0.183192</td>\n",
              "      <td>0.098838</td>\n",
              "      <td>-0.249773</td>\n",
              "      <td>-0.133372</td>\n",
              "    </tr>\n",
              "    <tr>\n",
              "      <th>CASH_ADVANCE_TRX</th>\n",
              "      <td>0.385152</td>\n",
              "      <td>0.141555</td>\n",
              "      <td>-0.067175</td>\n",
              "      <td>-0.046212</td>\n",
              "      <td>-0.073999</td>\n",
              "      <td>0.656498</td>\n",
              "      <td>-0.203478</td>\n",
              "      <td>-0.069088</td>\n",
              "      <td>-0.169207</td>\n",
              "      <td>0.799561</td>\n",
              "      <td>1.000000</td>\n",
              "      <td>-0.066157</td>\n",
              "      <td>0.149700</td>\n",
              "      <td>0.255278</td>\n",
              "      <td>0.109739</td>\n",
              "      <td>-0.169784</td>\n",
              "      <td>-0.043421</td>\n",
              "    </tr>\n",
              "    <tr>\n",
              "      <th>PURCHASES_TRX</th>\n",
              "      <td>0.154338</td>\n",
              "      <td>0.189626</td>\n",
              "      <td>0.689561</td>\n",
              "      <td>0.545523</td>\n",
              "      <td>0.628108</td>\n",
              "      <td>-0.075850</td>\n",
              "      <td>0.568430</td>\n",
              "      <td>0.544869</td>\n",
              "      <td>0.529975</td>\n",
              "      <td>-0.131168</td>\n",
              "      <td>-0.066157</td>\n",
              "      <td>1.000000</td>\n",
              "      <td>0.272882</td>\n",
              "      <td>0.370832</td>\n",
              "      <td>0.096333</td>\n",
              "      <td>0.162066</td>\n",
              "      <td>0.121874</td>\n",
              "    </tr>\n",
              "    <tr>\n",
              "      <th>CREDIT_LIMIT</th>\n",
              "      <td>0.531283</td>\n",
              "      <td>0.095843</td>\n",
              "      <td>0.356963</td>\n",
              "      <td>0.319724</td>\n",
              "      <td>0.256499</td>\n",
              "      <td>0.303985</td>\n",
              "      <td>0.119788</td>\n",
              "      <td>0.295038</td>\n",
              "      <td>0.060755</td>\n",
              "      <td>0.132616</td>\n",
              "      <td>0.149700</td>\n",
              "      <td>0.272882</td>\n",
              "      <td>1.000000</td>\n",
              "      <td>0.421861</td>\n",
              "      <td>0.126671</td>\n",
              "      <td>0.055672</td>\n",
              "      <td>0.139167</td>\n",
              "    </tr>\n",
              "    <tr>\n",
              "      <th>PAYMENTS</th>\n",
              "      <td>0.322802</td>\n",
              "      <td>0.065008</td>\n",
              "      <td>0.603264</td>\n",
              "      <td>0.567292</td>\n",
              "      <td>0.384084</td>\n",
              "      <td>0.453238</td>\n",
              "      <td>0.103464</td>\n",
              "      <td>0.243537</td>\n",
              "      <td>0.085551</td>\n",
              "      <td>0.183192</td>\n",
              "      <td>0.255278</td>\n",
              "      <td>0.370832</td>\n",
              "      <td>0.421861</td>\n",
              "      <td>1.000000</td>\n",
              "      <td>0.126651</td>\n",
              "      <td>0.112138</td>\n",
              "      <td>0.106136</td>\n",
              "    </tr>\n",
              "    <tr>\n",
              "      <th>MINIMUM_PAYMENTS</th>\n",
              "      <td>0.398684</td>\n",
              "      <td>0.132569</td>\n",
              "      <td>0.093860</td>\n",
              "      <td>0.048755</td>\n",
              "      <td>0.132172</td>\n",
              "      <td>0.140107</td>\n",
              "      <td>0.003030</td>\n",
              "      <td>-0.030327</td>\n",
              "      <td>0.030073</td>\n",
              "      <td>0.098838</td>\n",
              "      <td>0.109739</td>\n",
              "      <td>0.096333</td>\n",
              "      <td>0.126671</td>\n",
              "      <td>0.126651</td>\n",
              "      <td>1.000000</td>\n",
              "      <td>-0.140379</td>\n",
              "      <td>0.059444</td>\n",
              "    </tr>\n",
              "    <tr>\n",
              "      <th>PRC_FULL_PAYMENT</th>\n",
              "      <td>-0.318959</td>\n",
              "      <td>-0.095082</td>\n",
              "      <td>0.180379</td>\n",
              "      <td>0.132763</td>\n",
              "      <td>0.182569</td>\n",
              "      <td>-0.152935</td>\n",
              "      <td>0.305802</td>\n",
              "      <td>0.157531</td>\n",
              "      <td>0.250087</td>\n",
              "      <td>-0.249773</td>\n",
              "      <td>-0.169784</td>\n",
              "      <td>0.162066</td>\n",
              "      <td>0.055672</td>\n",
              "      <td>0.112138</td>\n",
              "      <td>-0.140379</td>\n",
              "      <td>1.000000</td>\n",
              "      <td>-0.016486</td>\n",
              "    </tr>\n",
              "    <tr>\n",
              "      <th>TENURE</th>\n",
              "      <td>0.072692</td>\n",
              "      <td>0.119776</td>\n",
              "      <td>0.086288</td>\n",
              "      <td>0.064150</td>\n",
              "      <td>0.086143</td>\n",
              "      <td>-0.068312</td>\n",
              "      <td>0.061506</td>\n",
              "      <td>0.082466</td>\n",
              "      <td>0.073275</td>\n",
              "      <td>-0.133372</td>\n",
              "      <td>-0.043421</td>\n",
              "      <td>0.121874</td>\n",
              "      <td>0.139167</td>\n",
              "      <td>0.106136</td>\n",
              "      <td>0.059444</td>\n",
              "      <td>-0.016486</td>\n",
              "      <td>1.000000</td>\n",
              "    </tr>\n",
              "  </tbody>\n",
              "</table>\n",
              "</div>\n",
              "      <button class=\"colab-df-convert\" onclick=\"convertToInteractive('df-ea574d41-e1f0-4670-80cc-3f73863139ff')\"\n",
              "              title=\"Convert this dataframe to an interactive table.\"\n",
              "              style=\"display:none;\">\n",
              "        \n",
              "  <svg xmlns=\"http://www.w3.org/2000/svg\" height=\"24px\"viewBox=\"0 0 24 24\"\n",
              "       width=\"24px\">\n",
              "    <path d=\"M0 0h24v24H0V0z\" fill=\"none\"/>\n",
              "    <path d=\"M18.56 5.44l.94 2.06.94-2.06 2.06-.94-2.06-.94-.94-2.06-.94 2.06-2.06.94zm-11 1L8.5 8.5l.94-2.06 2.06-.94-2.06-.94L8.5 2.5l-.94 2.06-2.06.94zm10 10l.94 2.06.94-2.06 2.06-.94-2.06-.94-.94-2.06-.94 2.06-2.06.94z\"/><path d=\"M17.41 7.96l-1.37-1.37c-.4-.4-.92-.59-1.43-.59-.52 0-1.04.2-1.43.59L10.3 9.45l-7.72 7.72c-.78.78-.78 2.05 0 2.83L4 21.41c.39.39.9.59 1.41.59.51 0 1.02-.2 1.41-.59l7.78-7.78 2.81-2.81c.8-.78.8-2.07 0-2.86zM5.41 20L4 18.59l7.72-7.72 1.47 1.35L5.41 20z\"/>\n",
              "  </svg>\n",
              "      </button>\n",
              "      \n",
              "  <style>\n",
              "    .colab-df-container {\n",
              "      display:flex;\n",
              "      flex-wrap:wrap;\n",
              "      gap: 12px;\n",
              "    }\n",
              "\n",
              "    .colab-df-convert {\n",
              "      background-color: #E8F0FE;\n",
              "      border: none;\n",
              "      border-radius: 50%;\n",
              "      cursor: pointer;\n",
              "      display: none;\n",
              "      fill: #1967D2;\n",
              "      height: 32px;\n",
              "      padding: 0 0 0 0;\n",
              "      width: 32px;\n",
              "    }\n",
              "\n",
              "    .colab-df-convert:hover {\n",
              "      background-color: #E2EBFA;\n",
              "      box-shadow: 0px 1px 2px rgba(60, 64, 67, 0.3), 0px 1px 3px 1px rgba(60, 64, 67, 0.15);\n",
              "      fill: #174EA6;\n",
              "    }\n",
              "\n",
              "    [theme=dark] .colab-df-convert {\n",
              "      background-color: #3B4455;\n",
              "      fill: #D2E3FC;\n",
              "    }\n",
              "\n",
              "    [theme=dark] .colab-df-convert:hover {\n",
              "      background-color: #434B5C;\n",
              "      box-shadow: 0px 1px 3px 1px rgba(0, 0, 0, 0.15);\n",
              "      filter: drop-shadow(0px 1px 2px rgba(0, 0, 0, 0.3));\n",
              "      fill: #FFFFFF;\n",
              "    }\n",
              "  </style>\n",
              "\n",
              "      <script>\n",
              "        const buttonEl =\n",
              "          document.querySelector('#df-ea574d41-e1f0-4670-80cc-3f73863139ff button.colab-df-convert');\n",
              "        buttonEl.style.display =\n",
              "          google.colab.kernel.accessAllowed ? 'block' : 'none';\n",
              "\n",
              "        async function convertToInteractive(key) {\n",
              "          const element = document.querySelector('#df-ea574d41-e1f0-4670-80cc-3f73863139ff');\n",
              "          const dataTable =\n",
              "            await google.colab.kernel.invokeFunction('convertToInteractive',\n",
              "                                                     [key], {});\n",
              "          if (!dataTable) return;\n",
              "\n",
              "          const docLinkHtml = 'Like what you see? Visit the ' +\n",
              "            '<a target=\"_blank\" href=https://colab.research.google.com/notebooks/data_table.ipynb>data table notebook</a>'\n",
              "            + ' to learn more about interactive tables.';\n",
              "          element.innerHTML = '';\n",
              "          dataTable['output_type'] = 'display_data';\n",
              "          await google.colab.output.renderOutput(dataTable, element);\n",
              "          const docLink = document.createElement('div');\n",
              "          docLink.innerHTML = docLinkHtml;\n",
              "          element.appendChild(docLink);\n",
              "        }\n",
              "      </script>\n",
              "    </div>\n",
              "  </div>\n",
              "  "
            ],
            "text/plain": [
              "                                   BALANCE  ...    TENURE\n",
              "BALANCE                           1.000000  ...  0.072692\n",
              "BALANCE_FREQUENCY                 0.322412  ...  0.119776\n",
              "PURCHASES                         0.181261  ...  0.086288\n",
              "ONEOFF_PURCHASES                  0.164350  ...  0.064150\n",
              "INSTALLMENTS_PURCHASES            0.126469  ...  0.086143\n",
              "CASH_ADVANCE                      0.496692  ... -0.068312\n",
              "PURCHASES_FREQUENCY              -0.077944  ...  0.061506\n",
              "ONEOFF_PURCHASES_FREQUENCY        0.073166  ...  0.082466\n",
              "PURCHASES_INSTALLMENTS_FREQUENCY -0.063186  ...  0.073275\n",
              "CASH_ADVANCE_FREQUENCY            0.449218  ... -0.133372\n",
              "CASH_ADVANCE_TRX                  0.385152  ... -0.043421\n",
              "PURCHASES_TRX                     0.154338  ...  0.121874\n",
              "CREDIT_LIMIT                      0.531283  ...  0.139167\n",
              "PAYMENTS                          0.322802  ...  0.106136\n",
              "MINIMUM_PAYMENTS                  0.398684  ...  0.059444\n",
              "PRC_FULL_PAYMENT                 -0.318959  ... -0.016486\n",
              "TENURE                            0.072692  ...  1.000000\n",
              "\n",
              "[17 rows x 17 columns]"
            ]
          },
          "metadata": {},
          "execution_count": 8
        }
      ]
    },
    {
      "cell_type": "code",
      "source": [
        "visualization of correlation plot"
      ],
      "metadata": {
        "id": "k3QAwvu2zsks"
      },
      "execution_count": null,
      "outputs": []
    },
    {
      "cell_type": "code",
      "source": [
        "sns.heatmap(df.corr())\n",
        "plt.show()"
      ],
      "metadata": {
        "colab": {
          "base_uri": "https://localhost:8080/",
          "height": 464
        },
        "id": "KkzZLBPXp5p7",
        "outputId": "4e36a720-4c22-4764-ce0d-b4041e4a9311"
      },
      "execution_count": 9,
      "outputs": [
        {
          "output_type": "display_data",
          "data": {
            "image/png": "[encoded data removed]",
            "text/plain": [
              "<Figure size 432x288 with 2 Axes>"
            ]
          },
          "metadata": {
            "needs_background": "light"
          }
        }
      ]
    },
    {
      "cell_type": "code",
      "source": [
        "missing_col = ['CREDIT_LIMIT','MINIMUM_PAYMENTS']\n",
        "for i in missing_col:\n",
        "    df.loc[df.loc[:,i].isnull(),i]=df.loc[:,i].mean()"
      ],
      "metadata": {
        "colab": {
          "base_uri": "https://localhost:8080/"
        },
        "id": "XV2RblIPblc_",
        "outputId": "34de34f1-e28d-4fe9-dcc8-5ee73d00aea2"
      },
      "execution_count": 23,
      "outputs": [
        {
          "output_type": "stream",
          "name": "stderr",
          "text": [
            "/usr/local/lib/python3.7/dist-packages/pandas/core/indexing.py:670: SettingWithCopyWarning: \n",
            "A value is trying to be set on a copy of a slice from a DataFrame\n",
            "\n",
            "See the caveats in the documentation: https://pandas.pydata.org/pandas-docs/stable/user_guide/indexing.html#returning-a-view-versus-a-copy\n",
            "  iloc._setitem_with_indexer(indexer, value)\n",
            "/usr/local/lib/python3.7/dist-packages/ipykernel_launcher.py:3: SettingWithCopyWarning: \n",
            "A value is trying to be set on a copy of a slice from a DataFrame\n",
            "\n",
            "See the caveats in the documentation: https://pandas.pydata.org/pandas-docs/stable/user_guide/indexing.html#returning-a-view-versus-a-copy\n",
            "  This is separate from the ipykernel package so we can avoid doing imports until\n"
          ]
        }
      ]
    },
    {
      "cell_type": "code",
      "source": [
        "df1 = df\n",
        "from sklearn.preprocessing import StandardScaler\n",
        "std_scaler = StandardScaler()\n",
        "scale_columns =['BALANCE', 'BALANCE_FREQUENCY', 'CASH_ADVANCE','CASH_ADVANCE_FREQUENCY','CASH_ADVANCE_TRX','CREDIT_LIMIT', 'PAYMENTS','MINIMUM_PAYMENTS']\n",
        "df1[scale_columns] = std_scaler.fit_transform(df[scale_columns])\n",
        "df1.head()"
      ],
      "metadata": {
        "colab": {
          "base_uri": "https://localhost:8080/",
          "height": 484
        },
        "id": "mhAneZbVaTJx",
        "outputId": "e0042cdc-1a50-4d7f-979a-a057acfde493"
      },
      "execution_count": 24,
      "outputs": [
        {
          "output_type": "stream",
          "name": "stderr",
          "text": [
            "/usr/local/lib/python3.7/dist-packages/ipykernel_launcher.py:5: SettingWithCopyWarning: \n",
            "A value is trying to be set on a copy of a slice from a DataFrame.\n",
            "Try using .loc[row_indexer,col_indexer] = value instead\n",
            "\n",
            "See the caveats in the documentation: https://pandas.pydata.org/pandas-docs/stable/user_guide/indexing.html#returning-a-view-versus-a-copy\n",
            "  \"\"\"\n",
            "/usr/local/lib/python3.7/dist-packages/pandas/core/frame.py:3076: SettingWithCopyWarning: \n",
            "A value is trying to be set on a copy of a slice from a DataFrame\n",
            "\n",
            "See the caveats in the documentation: https://pandas.pydata.org/pandas-docs/stable/user_guide/indexing.html#returning-a-view-versus-a-copy\n",
            "  self.iloc._setitem_with_indexer((slice(None), indexer), value)\n",
            "/usr/local/lib/python3.7/dist-packages/pandas/core/frame.py:3041: SettingWithCopyWarning: \n",
            "A value is trying to be set on a copy of a slice from a DataFrame\n",
            "\n",
            "See the caveats in the documentation: https://pandas.pydata.org/pandas-docs/stable/user_guide/indexing.html#returning-a-view-versus-a-copy\n",
            "  self._setitem_array(key, value)\n"
          ]
        },
        {
          "output_type": "execute_result",
          "data": {
            "text/html": [
              "\n",
              "  <div id=\"df-0843fe28-7f7e-4ecf-8554-0a57222524ec\">\n",
              "    <div class=\"colab-df-container\">\n",
              "      <div>\n",
              "<style scoped>\n",
              "    .dataframe tbody tr th:only-of-type {\n",
              "        vertical-align: middle;\n",
              "    }\n",
              "\n",
              "    .dataframe tbody tr th {\n",
              "        vertical-align: top;\n",
              "    }\n",
              "\n",
              "    .dataframe thead th {\n",
              "        text-align: right;\n",
              "    }\n",
              "</style>\n",
              "<table border=\"1\" class=\"dataframe\">\n",
              "  <thead>\n",
              "    <tr style=\"text-align: right;\">\n",
              "      <th></th>\n",
              "      <th>BALANCE</th>\n",
              "      <th>BALANCE_FREQUENCY</th>\n",
              "      <th>CASH_ADVANCE</th>\n",
              "      <th>CASH_ADVANCE_FREQUENCY</th>\n",
              "      <th>CASH_ADVANCE_TRX</th>\n",
              "      <th>CREDIT_LIMIT</th>\n",
              "      <th>PAYMENTS</th>\n",
              "      <th>MINIMUM_PAYMENTS</th>\n",
              "    </tr>\n",
              "  </thead>\n",
              "  <tbody>\n",
              "    <tr>\n",
              "      <th>0</th>\n",
              "      <td>-0.731989</td>\n",
              "      <td>-0.249434</td>\n",
              "      <td>-0.466786</td>\n",
              "      <td>-0.675349</td>\n",
              "      <td>-0.476070</td>\n",
              "      <td>-0.960433</td>\n",
              "      <td>-0.528979</td>\n",
              "      <td>-3.109675e-01</td>\n",
              "    </tr>\n",
              "    <tr>\n",
              "      <th>1</th>\n",
              "      <td>0.786961</td>\n",
              "      <td>0.134325</td>\n",
              "      <td>2.605605</td>\n",
              "      <td>0.573963</td>\n",
              "      <td>0.110074</td>\n",
              "      <td>0.688639</td>\n",
              "      <td>0.818642</td>\n",
              "      <td>8.931021e-02</td>\n",
              "    </tr>\n",
              "    <tr>\n",
              "      <th>2</th>\n",
              "      <td>0.447135</td>\n",
              "      <td>0.518084</td>\n",
              "      <td>-0.466786</td>\n",
              "      <td>-0.675349</td>\n",
              "      <td>-0.476070</td>\n",
              "      <td>0.826062</td>\n",
              "      <td>-0.383805</td>\n",
              "      <td>-1.016632e-01</td>\n",
              "    </tr>\n",
              "    <tr>\n",
              "      <th>3</th>\n",
              "      <td>0.049099</td>\n",
              "      <td>-1.016953</td>\n",
              "      <td>-0.368653</td>\n",
              "      <td>-0.258913</td>\n",
              "      <td>-0.329534</td>\n",
              "      <td>0.826062</td>\n",
              "      <td>-0.598688</td>\n",
              "      <td>-5.900237e-17</td>\n",
              "    </tr>\n",
              "    <tr>\n",
              "      <th>4</th>\n",
              "      <td>-0.358775</td>\n",
              "      <td>0.518084</td>\n",
              "      <td>-0.466786</td>\n",
              "      <td>-0.675349</td>\n",
              "      <td>-0.476070</td>\n",
              "      <td>-0.905464</td>\n",
              "      <td>-0.364368</td>\n",
              "      <td>-2.657913e-01</td>\n",
              "    </tr>\n",
              "  </tbody>\n",
              "</table>\n",
              "</div>\n",
              "      <button class=\"colab-df-convert\" onclick=\"convertToInteractive('df-0843fe28-7f7e-4ecf-8554-0a57222524ec')\"\n",
              "              title=\"Convert this dataframe to an interactive table.\"\n",
              "              style=\"display:none;\">\n",
              "        \n",
              "  <svg xmlns=\"http://www.w3.org/2000/svg\" height=\"24px\"viewBox=\"0 0 24 24\"\n",
              "       width=\"24px\">\n",
              "    <path d=\"M0 0h24v24H0V0z\" fill=\"none\"/>\n",
              "    <path d=\"M18.56 5.44l.94 2.06.94-2.06 2.06-.94-2.06-.94-.94-2.06-.94 2.06-2.06.94zm-11 1L8.5 8.5l.94-2.06 2.06-.94-2.06-.94L8.5 2.5l-.94 2.06-2.06.94zm10 10l.94 2.06.94-2.06 2.06-.94-2.06-.94-.94-2.06-.94 2.06-2.06.94z\"/><path d=\"M17.41 7.96l-1.37-1.37c-.4-.4-.92-.59-1.43-.59-.52 0-1.04.2-1.43.59L10.3 9.45l-7.72 7.72c-.78.78-.78 2.05 0 2.83L4 21.41c.39.39.9.59 1.41.59.51 0 1.02-.2 1.41-.59l7.78-7.78 2.81-2.81c.8-.78.8-2.07 0-2.86zM5.41 20L4 18.59l7.72-7.72 1.47 1.35L5.41 20z\"/>\n",
              "  </svg>\n",
              "      </button>\n",
              "      \n",
              "  <style>\n",
              "    .colab-df-container {\n",
              "      display:flex;\n",
              "      flex-wrap:wrap;\n",
              "      gap: 12px;\n",
              "    }\n",
              "\n",
              "    .colab-df-convert {\n",
              "      background-color: #E8F0FE;\n",
              "      border: none;\n",
              "      border-radius: 50%;\n",
              "      cursor: pointer;\n",
              "      display: none;\n",
              "      fill: #1967D2;\n",
              "      height: 32px;\n",
              "      padding: 0 0 0 0;\n",
              "      width: 32px;\n",
              "    }\n",
              "\n",
              "    .colab-df-convert:hover {\n",
              "      background-color: #E2EBFA;\n",
              "      box-shadow: 0px 1px 2px rgba(60, 64, 67, 0.3), 0px 1px 3px 1px rgba(60, 64, 67, 0.15);\n",
              "      fill: #174EA6;\n",
              "    }\n",
              "\n",
              "    [theme=dark] .colab-df-convert {\n",
              "      background-color: #3B4455;\n",
              "      fill: #D2E3FC;\n",
              "    }\n",
              "\n",
              "    [theme=dark] .colab-df-convert:hover {\n",
              "      background-color: #434B5C;\n",
              "      box-shadow: 0px 1px 3px 1px rgba(0, 0, 0, 0.15);\n",
              "      filter: drop-shadow(0px 1px 2px rgba(0, 0, 0, 0.3));\n",
              "      fill: #FFFFFF;\n",
              "    }\n",
              "  </style>\n",
              "\n",
              "      <script>\n",
              "        const buttonEl =\n",
              "          document.querySelector('#df-0843fe28-7f7e-4ecf-8554-0a57222524ec button.colab-df-convert');\n",
              "        buttonEl.style.display =\n",
              "          google.colab.kernel.accessAllowed ? 'block' : 'none';\n",
              "\n",
              "        async function convertToInteractive(key) {\n",
              "          const element = document.querySelector('#df-0843fe28-7f7e-4ecf-8554-0a57222524ec');\n",
              "          const dataTable =\n",
              "            await google.colab.kernel.invokeFunction('convertToInteractive',\n",
              "                                                     [key], {});\n",
              "          if (!dataTable) return;\n",
              "\n",
              "          const docLinkHtml = 'Like what you see? Visit the ' +\n",
              "            '<a target=\"_blank\" href=https://colab.research.google.com/notebooks/data_table.ipynb>data table notebook</a>'\n",
              "            + ' to learn more about interactive tables.';\n",
              "          element.innerHTML = '';\n",
              "          dataTable['output_type'] = 'display_data';\n",
              "          await google.colab.output.renderOutput(dataTable, element);\n",
              "          const docLink = document.createElement('div');\n",
              "          docLink.innerHTML = docLinkHtml;\n",
              "          element.appendChild(docLink);\n",
              "        }\n",
              "      </script>\n",
              "    </div>\n",
              "  </div>\n",
              "  "
            ],
            "text/plain": [
              "    BALANCE  BALANCE_FREQUENCY  ...  PAYMENTS  MINIMUM_PAYMENTS\n",
              "0 -0.731989          -0.249434  ... -0.528979     -3.109675e-01\n",
              "1  0.786961           0.134325  ...  0.818642      8.931021e-02\n",
              "2  0.447135           0.518084  ... -0.383805     -1.016632e-01\n",
              "3  0.049099          -1.016953  ... -0.598688     -5.900237e-17\n",
              "4 -0.358775           0.518084  ... -0.364368     -2.657913e-01\n",
              "\n",
              "[5 rows x 8 columns]"
            ]
          },
          "metadata": {},
          "execution_count": 24
        }
      ]
    },
    {
      "cell_type": "code",
      "source": [
        "#kmeans algorithm"
      ],
      "metadata": {
        "id": "a_MgGpmNcudI"
      },
      "execution_count": null,
      "outputs": []
    },
    {
      "cell_type": "code",
      "source": [
        "from sklearn.cluster import KMeans\n",
        "import matplotlib.pyplot as plt\n",
        "df = df1[scale_columns]\n",
        "kmeans = KMeans(n_clusters=4).fit(df)\n",
        "centroids = kmeans.cluster_centers_\n",
        "labels = kmeans.labels_\n",
        "print(centroids)\n",
        "print(labels)\n",
        "print('Attributes used for cluster model: ', scale_columns)"
      ],
      "metadata": {
        "colab": {
          "base_uri": "https://localhost:8080/"
        },
        "id": "7okcqNaMatL_",
        "outputId": "eae74921-a339-4b5f-bc33-f85dfe06ebf1"
      },
      "execution_count": 25,
      "outputs": [
        {
          "output_type": "stream",
          "name": "stdout",
          "text": [
            "[[ 1.15161898  0.37442086  1.87496017  2.11823995  2.01758792  0.61576847\n",
            "   0.69018571  0.25592323]\n",
            " [-0.29638561  0.38247481 -0.28349934 -0.24930142 -0.25027431 -0.3245775\n",
            "  -0.21590455 -0.14656724]\n",
            " [ 1.37750616  0.40360337  0.14242616 -0.03796841 -0.09902796  1.43666746\n",
            "   0.81114029  0.85841337]\n",
            " [-0.69322774 -2.09257061 -0.30404848 -0.47241978 -0.35073888 -0.24948706\n",
            "  -0.25240162 -0.2582866 ]]\n",
            "[1 0 1 ... 1 1 1]\n",
            "Attributes used for cluster model:  ['BALANCE', 'BALANCE_FREQUENCY', 'CASH_ADVANCE', 'CASH_ADVANCE_FREQUENCY', 'CASH_ADVANCE_TRX', 'CREDIT_LIMIT', 'PAYMENTS', 'MINIMUM_PAYMENTS']\n"
          ]
        }
      ]
    },
    {
      "cell_type": "code",
      "source": [
        "# silhoutte score"
      ],
      "metadata": {
        "id": "JaIbQHfeY6lQ"
      },
      "execution_count": null,
      "outputs": []
    },
    {
      "cell_type": "code",
      "source": [
        "from sklearn.metrics import silhouette_samples, silhouette_score\n",
        "import matplotlib.cm as cm\n",
        "df=df1[scale_columns]\n",
        "range_n_clusters = [ 4, 5, 6,7,8,9,10]\n",
        "for n_clusters in range_n_clusters:\n",
        "# Create a subplot with 1 row and 2 columns\n",
        "  fig, ax1 = plt.subplots(1, 1)\n",
        "  ax1.set_xlim([-0.1, 1])\n",
        "  ax1.set_ylim([0, len(df) + (n_clusters + 1) * 10])\n",
        "  clusterer = KMeans(n_clusters=n_clusters, random_state=10)\n",
        "  cluster_labels = clusterer.fit_predict(df)\n",
        "  silhouette_avg = silhouette_score(df, cluster_labels)\n",
        "  print(\"For n_clusters =\", n_clusters, \"The average silhouette_score is :\", silhouette_avg)\n",
        "# Compute the silhouette scores for each sample\n",
        "  sample_silhouette_values = silhouette_samples(df, cluster_labels)\n",
        "  y_lower = 10\n",
        "  for i in range(n_clusters):\n",
        "    ith_cluster_silhouette_values = sample_silhouette_values[cluster_labels == i]\n",
        "    ith_cluster_silhouette_values.sort()\n",
        "    size_cluster_i = ith_cluster_silhouette_values.shape[0]\n",
        "    y_upper = y_lower + size_cluster_i\n",
        "    color = cm.nipy_spectral(float(i) / n_clusters)\n",
        "    ax1.fill_betweenx(np.arange(y_lower, y_upper), 0, ith_cluster_silhouette_values, facecolor=color, edgecolor=color, alpha=0.7)\n",
        " # Label the silhouette plots with their cluster numbers at the middle\n",
        "    ax1.text(-0.05, y_lower + 0.5 * size_cluster_i, str(i))\n",
        " # Compute the new y_lower for next plot\n",
        "    y_lower = y_upper + 10 # 10 for the 0 samples\n",
        "    ax1.set_xlabel(\"The silhouette coefficient values\")\n",
        "    ax1.set_ylabel(\"Cluster label\")\n",
        "# The vertical line for average silhouette score of all the values\n",
        "    ax1.axvline(x=silhouette_avg, color=\"red\", linestyle=\"--\")\n",
        "    ax1.set_yticks([]) # Clear the yaxis labels / ticks\n",
        "    ax1.set_xticks([-0.1, 0, 0.2, 0.4, 0.6, 0.8, 1])\n",
        "plt.show()"
      ],
      "metadata": {
        "colab": {
          "base_uri": "https://localhost:8080/",
          "height": 1000
        },
        "id": "pyxPdZrRYCOw",
        "outputId": "18a040ab-b191-4603-fd79-775f60654017"
      },
      "execution_count": 27,
      "outputs": [
        {
          "output_type": "stream",
          "name": "stdout",
          "text": [
            "For n_clusters = 4 The average silhouette_score is : 0.3458608734976961\n",
            "For n_clusters = 5 The average silhouette_score is : 0.34409441283273273\n",
            "For n_clusters = 6 The average silhouette_score is : 0.3498988290880023\n",
            "For n_clusters = 7 The average silhouette_score is : 0.3356213763525628\n",
            "For n_clusters = 8 The average silhouette_score is : 0.3145702299832557\n",
            "For n_clusters = 9 The average silhouette_score is : 0.3103474879659666\n",
            "For n_clusters = 10 The average silhouette_score is : 0.3127826043033967\n"
          ]
        },
        {
          "output_type": "display_data",
          "data": {
            "image/png": "[encoded data removed]",
            "text/plain": [
              "<Figure size 432x288 with 1 Axes>"
            ]
          },
          "metadata": {
            "needs_background": "light"
          }
        },
        {
          "output_type": "display_data",
          "data": {
            "image/png": "[encoded data removed]",
            "text/plain": [
              "<Figure size 432x288 with 1 Axes>"
            ]
          },
          "metadata": {
            "needs_background": "light"
          }
        },
        {
          "output_type": "display_data",
          "data": {
            "image/png": "[encoded data removed]",
            "text/plain": [
              "<Figure size 432x288 with 1 Axes>"
            ]
          },
          "metadata": {
            "needs_background": "light"
          }
        },
        {
          "output_type": "display_data",
          "data": {
            "image/png": "[encoded data removed]",
            "text/plain": [
              "<Figure size 432x288 with 1 Axes>"
            ]
          },
          "metadata": {
            "needs_background": "light"
          }
        },
        {
          "output_type": "display_data",
          "data": {
            "image/png": "[encoded data removed]",
            "text/plain": [
              "<Figure size 432x288 with 1 Axes>"
            ]
          },
          "metadata": {
            "needs_background": "light"
          }
        },
        {
          "output_type": "display_data",
          "data": {
            "image/png": "[encoded data removed]",
            "text/plain": [
              "<Figure size 432x288 with 1 Axes>"
            ]
          },
          "metadata": {
            "needs_background": "light"
          }
        },
        {
          "output_type": "display_data",
          "data": {
            "image/png": "[encoded data removed]",
            "text/plain": [
              "<Figure size 432x288 with 1 Axes>"
            ]
          },
          "metadata": {
            "needs_background": "light"
          }
        }
      ]
    },
    {
      "cell_type": "code",
      "source": [
        "# this is the information of my numerical columns"
      ],
      "metadata": {
        "id": "CsUC2KOKzzCW"
      },
      "execution_count": null,
      "outputs": []
    },
    {
      "cell_type": "code",
      "source": [
        "df.describe()"
      ],
      "metadata": {
        "colab": {
          "base_uri": "https://localhost:8080/",
          "height": 300
        },
        "id": "7bOAtu4YqFR4",
        "outputId": "2b3b8df1-0382-4f23-99f2-361fd85656ed"
      },
      "execution_count": 28,
      "outputs": [
        {
          "output_type": "execute_result",
          "data": {
            "text/html": [
              "\n",
              "  <div id=\"df-5943b4fb-e663-4a08-ae97-5cfe662d7411\">\n",
              "    <div class=\"colab-df-container\">\n",
              "      <div>\n",
              "<style scoped>\n",
              "    .dataframe tbody tr th:only-of-type {\n",
              "        vertical-align: middle;\n",
              "    }\n",
              "\n",
              "    .dataframe tbody tr th {\n",
              "        vertical-align: top;\n",
              "    }\n",
              "\n",
              "    .dataframe thead th {\n",
              "        text-align: right;\n",
              "    }\n",
              "</style>\n",
              "<table border=\"1\" class=\"dataframe\">\n",
              "  <thead>\n",
              "    <tr style=\"text-align: right;\">\n",
              "      <th></th>\n",
              "      <th>BALANCE</th>\n",
              "      <th>BALANCE_FREQUENCY</th>\n",
              "      <th>CASH_ADVANCE</th>\n",
              "      <th>CASH_ADVANCE_FREQUENCY</th>\n",
              "      <th>CASH_ADVANCE_TRX</th>\n",
              "      <th>CREDIT_LIMIT</th>\n",
              "      <th>PAYMENTS</th>\n",
              "      <th>MINIMUM_PAYMENTS</th>\n",
              "    </tr>\n",
              "  </thead>\n",
              "  <tbody>\n",
              "    <tr>\n",
              "      <th>count</th>\n",
              "      <td>8.950000e+03</td>\n",
              "      <td>8.950000e+03</td>\n",
              "      <td>8.950000e+03</td>\n",
              "      <td>8.950000e+03</td>\n",
              "      <td>8.950000e+03</td>\n",
              "      <td>8.950000e+03</td>\n",
              "      <td>8.950000e+03</td>\n",
              "      <td>8.950000e+03</td>\n",
              "    </tr>\n",
              "    <tr>\n",
              "      <th>mean</th>\n",
              "      <td>4.195651e-16</td>\n",
              "      <td>1.207388e-14</td>\n",
              "      <td>5.693056e-15</td>\n",
              "      <td>5.985653e-16</td>\n",
              "      <td>-7.151759e-16</td>\n",
              "      <td>-5.143905e-15</td>\n",
              "      <td>-2.746158e-16</td>\n",
              "      <td>-7.314447e-17</td>\n",
              "    </tr>\n",
              "    <tr>\n",
              "      <th>std</th>\n",
              "      <td>1.000056e+00</td>\n",
              "      <td>1.000056e+00</td>\n",
              "      <td>1.000056e+00</td>\n",
              "      <td>1.000056e+00</td>\n",
              "      <td>1.000056e+00</td>\n",
              "      <td>1.000056e+00</td>\n",
              "      <td>1.000056e+00</td>\n",
              "      <td>1.000056e+00</td>\n",
              "    </tr>\n",
              "    <tr>\n",
              "      <th>min</th>\n",
              "      <td>-7.516398e-01</td>\n",
              "      <td>-3.703271e+00</td>\n",
              "      <td>-4.667856e-01</td>\n",
              "      <td>-6.753489e-01</td>\n",
              "      <td>-4.760698e-01</td>\n",
              "      <td>-1.221536e+00</td>\n",
              "      <td>-5.986883e-01</td>\n",
              "      <td>-3.708230e-01</td>\n",
              "    </tr>\n",
              "    <tr>\n",
              "      <th>25%</th>\n",
              "      <td>-6.900078e-01</td>\n",
              "      <td>4.904486e-02</td>\n",
              "      <td>-4.667856e-01</td>\n",
              "      <td>-6.753489e-01</td>\n",
              "      <td>-4.760698e-01</td>\n",
              "      <td>-7.955261e-01</td>\n",
              "      <td>-4.662913e-01</td>\n",
              "      <td>-2.975162e-01</td>\n",
              "    </tr>\n",
              "    <tr>\n",
              "      <th>50%</th>\n",
              "      <td>-3.320286e-01</td>\n",
              "      <td>5.180838e-01</td>\n",
              "      <td>-4.667856e-01</td>\n",
              "      <td>-6.753489e-01</td>\n",
              "      <td>-4.760698e-01</td>\n",
              "      <td>-4.107426e-01</td>\n",
              "      <td>-3.026846e-01</td>\n",
              "      <td>-2.268130e-01</td>\n",
              "    </tr>\n",
              "    <tr>\n",
              "      <th>75%</th>\n",
              "      <td>2.352559e-01</td>\n",
              "      <td>5.180838e-01</td>\n",
              "      <td>6.435242e-02</td>\n",
              "      <td>4.351492e-01</td>\n",
              "      <td>1.100739e-01</td>\n",
              "      <td>5.512163e-01</td>\n",
              "      <td>5.802976e-02</td>\n",
              "      <td>-5.900237e-17</td>\n",
              "    </tr>\n",
              "    <tr>\n",
              "      <th>max</th>\n",
              "      <td>8.397489e+00</td>\n",
              "      <td>5.180838e-01</td>\n",
              "      <td>2.201112e+01</td>\n",
              "      <td>6.820521e+00</td>\n",
              "      <td>1.754785e+01</td>\n",
              "      <td>7.010083e+00</td>\n",
              "      <td>1.692228e+01</td>\n",
              "      <td>3.241509e+01</td>\n",
              "    </tr>\n",
              "  </tbody>\n",
              "</table>\n",
              "</div>\n",
              "      <button class=\"colab-df-convert\" onclick=\"convertToInteractive('df-5943b4fb-e663-4a08-ae97-5cfe662d7411')\"\n",
              "              title=\"Convert this dataframe to an interactive table.\"\n",
              "              style=\"display:none;\">\n",
              "        \n",
              "  <svg xmlns=\"http://www.w3.org/2000/svg\" height=\"24px\"viewBox=\"0 0 24 24\"\n",
              "       width=\"24px\">\n",
              "    <path d=\"M0 0h24v24H0V0z\" fill=\"none\"/>\n",
              "    <path d=\"M18.56 5.44l.94 2.06.94-2.06 2.06-.94-2.06-.94-.94-2.06-.94 2.06-2.06.94zm-11 1L8.5 8.5l.94-2.06 2.06-.94-2.06-.94L8.5 2.5l-.94 2.06-2.06.94zm10 10l.94 2.06.94-2.06 2.06-.94-2.06-.94-.94-2.06-.94 2.06-2.06.94z\"/><path d=\"M17.41 7.96l-1.37-1.37c-.4-.4-.92-.59-1.43-.59-.52 0-1.04.2-1.43.59L10.3 9.45l-7.72 7.72c-.78.78-.78 2.05 0 2.83L4 21.41c.39.39.9.59 1.41.59.51 0 1.02-.2 1.41-.59l7.78-7.78 2.81-2.81c.8-.78.8-2.07 0-2.86zM5.41 20L4 18.59l7.72-7.72 1.47 1.35L5.41 20z\"/>\n",
              "  </svg>\n",
              "      </button>\n",
              "      \n",
              "  <style>\n",
              "    .colab-df-container {\n",
              "      display:flex;\n",
              "      flex-wrap:wrap;\n",
              "      gap: 12px;\n",
              "    }\n",
              "\n",
              "    .colab-df-convert {\n",
              "      background-color: #E8F0FE;\n",
              "      border: none;\n",
              "      border-radius: 50%;\n",
              "      cursor: pointer;\n",
              "      display: none;\n",
              "      fill: #1967D2;\n",
              "      height: 32px;\n",
              "      padding: 0 0 0 0;\n",
              "      width: 32px;\n",
              "    }\n",
              "\n",
              "    .colab-df-convert:hover {\n",
              "      background-color: #E2EBFA;\n",
              "      box-shadow: 0px 1px 2px rgba(60, 64, 67, 0.3), 0px 1px 3px 1px rgba(60, 64, 67, 0.15);\n",
              "      fill: #174EA6;\n",
              "    }\n",
              "\n",
              "    [theme=dark] .colab-df-convert {\n",
              "      background-color: #3B4455;\n",
              "      fill: #D2E3FC;\n",
              "    }\n",
              "\n",
              "    [theme=dark] .colab-df-convert:hover {\n",
              "      background-color: #434B5C;\n",
              "      box-shadow: 0px 1px 3px 1px rgba(0, 0, 0, 0.15);\n",
              "      filter: drop-shadow(0px 1px 2px rgba(0, 0, 0, 0.3));\n",
              "      fill: #FFFFFF;\n",
              "    }\n",
              "  </style>\n",
              "\n",
              "      <script>\n",
              "        const buttonEl =\n",
              "          document.querySelector('#df-5943b4fb-e663-4a08-ae97-5cfe662d7411 button.colab-df-convert');\n",
              "        buttonEl.style.display =\n",
              "          google.colab.kernel.accessAllowed ? 'block' : 'none';\n",
              "\n",
              "        async function convertToInteractive(key) {\n",
              "          const element = document.querySelector('#df-5943b4fb-e663-4a08-ae97-5cfe662d7411');\n",
              "          const dataTable =\n",
              "            await google.colab.kernel.invokeFunction('convertToInteractive',\n",
              "                                                     [key], {});\n",
              "          if (!dataTable) return;\n",
              "\n",
              "          const docLinkHtml = 'Like what you see? Visit the ' +\n",
              "            '<a target=\"_blank\" href=https://colab.research.google.com/notebooks/data_table.ipynb>data table notebook</a>'\n",
              "            + ' to learn more about interactive tables.';\n",
              "          element.innerHTML = '';\n",
              "          dataTable['output_type'] = 'display_data';\n",
              "          await google.colab.output.renderOutput(dataTable, element);\n",
              "          const docLink = document.createElement('div');\n",
              "          docLink.innerHTML = docLinkHtml;\n",
              "          element.appendChild(docLink);\n",
              "        }\n",
              "      </script>\n",
              "    </div>\n",
              "  </div>\n",
              "  "
            ],
            "text/plain": [
              "            BALANCE  BALANCE_FREQUENCY  ...      PAYMENTS  MINIMUM_PAYMENTS\n",
              "count  8.950000e+03       8.950000e+03  ...  8.950000e+03      8.950000e+03\n",
              "mean   4.195651e-16       1.207388e-14  ... -2.746158e-16     -7.314447e-17\n",
              "std    1.000056e+00       1.000056e+00  ...  1.000056e+00      1.000056e+00\n",
              "min   -7.516398e-01      -3.703271e+00  ... -5.986883e-01     -3.708230e-01\n",
              "25%   -6.900078e-01       4.904486e-02  ... -4.662913e-01     -2.975162e-01\n",
              "50%   -3.320286e-01       5.180838e-01  ... -3.026846e-01     -2.268130e-01\n",
              "75%    2.352559e-01       5.180838e-01  ...  5.802976e-02     -5.900237e-17\n",
              "max    8.397489e+00       5.180838e-01  ...  1.692228e+01      3.241509e+01\n",
              "\n",
              "[8 rows x 8 columns]"
            ]
          },
          "metadata": {},
          "execution_count": 28
        }
      ]
    },
    {
      "cell_type": "code",
      "source": [
        "#Without Dimension reduction technique using pipepline process"
      ],
      "metadata": {
        "id": "P5XDvvkxyjyJ"
      },
      "execution_count": null,
      "outputs": []
    },
    {
      "cell_type": "code",
      "source": [
        "#Build Pipeline in Machine Learning Process"
      ],
      "metadata": {
        "id": "Urooiulcy2l-"
      },
      "execution_count": null,
      "outputs": []
    },
    {
      "cell_type": "code",
      "source": [
        "#Define method for data exploration from the source\n",
        "def data_exploration(path):\n",
        "  df = pd.read_csv('/content/drive/MyDrive/ML/cards.csv') \n",
        "  df.head()\n",
        "  return df"
      ],
      "metadata": {
        "id": "pgBFyDCprdcc"
      },
      "execution_count": 29,
      "outputs": []
    },
    {
      "cell_type": "code",
      "source": [
        "def missing_values(attributes):\n",
        "  missing_col = df[attributes].copy()\n",
        "  for i in missing_col:\n",
        "    df.loc[df.loc[:,i].isnull(),i]=df.loc[:,i].mean()\n",
        "  return missing_col,attributes"
      ],
      "metadata": {
        "id": "Bs_0QpNQrdhF"
      },
      "execution_count": 30,
      "outputs": []
    },
    {
      "cell_type": "code",
      "source": [
        "def data_preparation(attributes):\n",
        "   \n",
        "    X= df[attributes].copy()\n",
        "    X.columns =['BALANCE', 'BALANCE_FREQUENCY', 'CASH_ADVANCE','CASH_ADVANCE_FREQUENCY','CASH_ADVANCE_TRX','CREDIT_LIMIT', 'PAYMENTS','MINIMUM_PAYMENTS']\n",
        "    X.astype(float).head()\n",
        "    return X,attributes"
      ],
      "metadata": {
        "id": "Qob1VoBmrdk6"
      },
      "execution_count": 31,
      "outputs": []
    },
    {
      "cell_type": "code",
      "source": [
        "#Define method for data scaling\n",
        "def data_scaling(X,scale,attributes):\n",
        "  if scale=='minmax':\n",
        "    scaler=MinMaxScaler()\n",
        "  else:\n",
        "    scaler=StandardScaler()\n",
        "  scaled_values = scaler.fit_transform(X[attributes])\n",
        "  return scaled_values"
      ],
      "metadata": {
        "id": "QQysBnYErdpp"
      },
      "execution_count": 32,
      "outputs": []
    },
    {
      "cell_type": "code",
      "source": [
        "#Define method for data visualization\n",
        "def data_visualization(X,attributes):\n",
        "  plt.scatter(X[attributes[0]], X[attributes[5]])\n",
        "  plt.show()"
      ],
      "metadata": {
        "id": "3wI6Oq1srduk"
      },
      "execution_count": 33,
      "outputs": []
    },
    {
      "cell_type": "code",
      "source": [
        "#Define method for model building\n",
        "\n",
        "def build_model(model,min_samples,eps, scaled_values):\n",
        "  if model=='DBSCAN':\n",
        "    cluster = DBSCAN( eps=eps, min_samples=min_samples).fit_predict( scaled_values)\n",
        "    #print(cluster)\n",
        "  else:\n",
        "    cluster = hdbscan.HDBSCAN(min_samples=min_samples).fit_predict( scaled_values)\n",
        "    #print(cluster)\n",
        "  return cluster"
      ],
      "metadata": {
        "id": "0Gw73iUPtTCT"
      },
      "execution_count": 52,
      "outputs": []
    },
    {
      "cell_type": "code",
      "source": [
        "#Define method to visualize the clusters\n",
        "def visualize_clusters(X, attributes, model,cluster):\n",
        " if model=='DBSCAN':\n",
        "  plt.scatter(X[attributes[0]], X[attributes[5]],c=cluster, cmap='Paired')\n",
        "  plt.title(\"DBSCAN\")\n",
        "  plt.show()\n",
        " else:\n",
        "  plt.scatter(X[attributes[0]], X[attributes[5]],c=cluster, cmap='Paired')\n",
        "  plt.title(\"HDBSCAN\")\n",
        "  plt.show()"
      ],
      "metadata": {
        "id": "-z02cd-LtYRk"
      },
      "execution_count": 53,
      "outputs": []
    },
    {
      "cell_type": "code",
      "source": [
        "#define the method to construct pipeline\n",
        "\n",
        "def build_pipeline(path,attributes, scale, components, model,eps,min_samples):\n",
        " #Step 1\n",
        "    df=data_exploration(path)\n",
        " #Step 2\n",
        "    missing_values(attributes)\n",
        "\n",
        "    X,attributes=data_preparation(attributes)\n",
        " \n",
        " #Step 3\n",
        "    scaled_values=data_scaling(X,scale,attributes)\n",
        " \n",
        " #Step 4\n",
        "    data_visualization(X,attributes)\n",
        " \n",
        " #Step 5\n",
        "    #values=feature_reduction(scaled_values, dimension_reduction, components)\n",
        " \n",
        " #Step 6\n",
        "    cluster=build_model(model,min_samples,eps,scaled_values)\n",
        " \n",
        " #Step 7\n",
        "    visualize_clusters(X, attributes, model,cluster)"
      ],
      "metadata": {
        "id": "FPYz6KH1teKM"
      },
      "execution_count": 54,
      "outputs": []
    },
    {
      "cell_type": "code",
      "source": [
        "#Use pipeline\n",
        "path='/content/drive/MyDrive/ML/cards.csv'\n",
        "attributes=['BALANCE', 'BALANCE_FREQUENCY', 'CASH_ADVANCE','CASH_ADVANCE_FREQUENCY','CASH_ADVANCE_TRX','CREDIT_LIMIT', 'PAYMENTS','MINIMUM_PAYMENTS']\n",
        "scale='minmax' #standard\n",
        "#dimension_reduction= 'pca' #tsne\n",
        "#components=2\n",
        "model='HDBSCAN' #dbscan\n",
        "eps=1.5\n",
        "min_samples=12\n",
        "build_pipeline(path, attributes, scale, components, model,eps, min_samples)"
      ],
      "metadata": {
        "colab": {
          "base_uri": "https://localhost:8080/",
          "height": 529
        },
        "id": "7mswMI5X1Bu0",
        "outputId": "3a72e2fc-13c5-4b0e-f627-25dbcdc4fdad"
      },
      "execution_count": 56,
      "outputs": [
        {
          "output_type": "display_data",
          "data": {
            "image/png": "[encoded data removed]",
            "text/plain": [
              "<Figure size 432x288 with 1 Axes>"
            ]
          },
          "metadata": {
            "needs_background": "light"
          }
        },
        {
          "output_type": "display_data",
          "data": {
            "image/png": "[encoded data removed]",
            "text/plain": [
              "<Figure size 432x288 with 1 Axes>"
            ]
          },
          "metadata": {
            "needs_background": "light"
          }
        }
      ]
    },
    {
      "cell_type": "markdown",
      "source": [
        "eps=1.5,min_samples=12. i am used hdbscan model from my observation balance vs credit limit its going linearly  from the visuals i am getting more number of cluster_labels. without reduction technique i am getting very less number of clusters."
      ],
      "metadata": {
        "id": "ex9W2esheKFD"
      }
    },
    {
      "cell_type": "code",
      "source": [
        "#With Dimension reduction technique using pipepline process"
      ],
      "metadata": {
        "id": "gWIkUJXfyzQA"
      },
      "execution_count": null,
      "outputs": []
    },
    {
      "cell_type": "code",
      "source": [
        "#Build Pipeline in Machine Learning Process"
      ],
      "metadata": {
        "id": "9k3fHvwAxpUJ"
      },
      "execution_count": null,
      "outputs": []
    },
    {
      "cell_type": "code",
      "source": [
        "#Define method for data exploration from the source\n",
        "def data_exploration(path):\n",
        "  df = pd.read_csv('/content/drive/MyDrive/ML/cards.csv') \n",
        "  df.head()\n",
        "  return df"
      ],
      "metadata": {
        "id": "sYWEDmE-yEqY"
      },
      "execution_count": 39,
      "outputs": []
    },
    {
      "cell_type": "code",
      "source": [
        "def missing_values(attributes):\n",
        "  missing_col = df[attributes].copy()\n",
        "  for i in missing_col:\n",
        "    df.loc[df.loc[:,i].isnull(),i]=df.loc[:,i].mean()\n",
        "  return missing_col,attributes"
      ],
      "metadata": {
        "id": "rZ0deP1vgGXo"
      },
      "execution_count": 40,
      "outputs": []
    },
    {
      "cell_type": "code",
      "source": [
        "def data_preparation(attributes):\n",
        "   \n",
        "    X= df[attributes].copy()\n",
        "    X.columns =['BALANCE', 'BALANCE_FREQUENCY', 'CASH_ADVANCE','CASH_ADVANCE_FREQUENCY','CASH_ADVANCE_TRX','CREDIT_LIMIT', 'PAYMENTS','MINIMUM_PAYMENTS']\n",
        "    X.astype(float).head()\n",
        "    return X,attributes"
      ],
      "metadata": {
        "id": "QkM3Egf6ye4p"
      },
      "execution_count": 41,
      "outputs": []
    },
    {
      "cell_type": "code",
      "source": [
        "#Define method for data scaling\n",
        "def data_scaling(X,scale,attributes):\n",
        "  if scale=='minmax':\n",
        "    scaler=MinMaxScaler()\n",
        "  else:\n",
        "    scaler=StandardScaler()\n",
        "  scaled_values = scaler.fit_transform(X[attributes])\n",
        "  return scaled_values"
      ],
      "metadata": {
        "id": "ZY6CplJZzOFk"
      },
      "execution_count": 42,
      "outputs": []
    },
    {
      "cell_type": "code",
      "source": [
        "#Define method for data visualization\n",
        "def data_visualization(X,attributes):\n",
        "  plt.scatter(X[attributes[0]], X[attributes[5]])\n",
        "  plt.show()"
      ],
      "metadata": {
        "id": "YOeQgWURzSaS"
      },
      "execution_count": 43,
      "outputs": []
    },
    {
      "cell_type": "code",
      "source": [
        "#Define method for feature reduction\n",
        "def feature_reduction(scaled_values, dimension_reduction, components):\n",
        "  if dimension_reduction == 'pca':\n",
        "    values = PCA().fit_transform(scaled_values)[:, :components]\n",
        "  elif dimension_reduction == 'tsne':\n",
        "    values = TSNE(n_components=components).fit_transform(scaled_values)[:, :components]\n",
        "  else:\n",
        "    values = scaled_values\n",
        "  return values"
      ],
      "metadata": {
        "id": "hfZ9CgYKzVdZ"
      },
      "execution_count": 44,
      "outputs": []
    },
    {
      "cell_type": "code",
      "source": [
        "#Define method for model building\n",
        "\n",
        "def build_model(model,min_samples,eps,values):\n",
        "  if model=='DBSCAN':\n",
        "    cluster = DBSCAN( eps=eps, min_samples=min_samples).fit_predict(values)\n",
        "    #print(cluster)\n",
        "  else:\n",
        "    cluster = hdbscan.HDBSCAN(min_samples=min_samples).fit_predict(values)\n",
        "    #print(cluster)\n",
        "  return cluster"
      ],
      "metadata": {
        "id": "k2nW8y-azZ-8"
      },
      "execution_count": 45,
      "outputs": []
    },
    {
      "cell_type": "code",
      "source": [
        "#Define method to visualize the clusters\n",
        "def visualize_clusters(X, attributes, model,cluster):\n",
        " if model=='DBSCAN':\n",
        "  plt.scatter(X[attributes[0]], X[attributes[5]],c=cluster, cmap='Paired')\n",
        "  plt.title(\"DBSCAN\")\n",
        "  plt.show()\n",
        " else:\n",
        "  plt.scatter(X[attributes[0]], X[attributes[5]],c=cluster, cmap='Paired')\n",
        "  plt.title(\"HDBSCAN\")\n",
        "  plt.show()"
      ],
      "metadata": {
        "id": "oRydn3SBze4q"
      },
      "execution_count": 46,
      "outputs": []
    },
    {
      "cell_type": "code",
      "source": [
        "#define the method to construct pipeline\n",
        "\n",
        "def build_pipeline(path,attributes, scale, dimension_reduction, components, model,eps,min_samples):\n",
        " #Step 1\n",
        "    df=data_exploration(path)\n",
        " #Step 2\n",
        "    missing_values(attributes)\n",
        "\n",
        "    X,attributes=data_preparation(attributes)\n",
        " \n",
        " #Step 3\n",
        "    scaled_values=data_scaling(X,scale,attributes)\n",
        " \n",
        " #Step 4\n",
        "    data_visualization(X,attributes)\n",
        " \n",
        " #Step 5\n",
        "    values=feature_reduction(scaled_values, dimension_reduction, components)\n",
        " \n",
        " #Step 6\n",
        "    cluster=build_model(model,min_samples,eps,values)\n",
        " \n",
        " #Step 7\n",
        "    visualize_clusters(X, attributes, model,cluster)"
      ],
      "metadata": {
        "id": "7uQjUsvPzi6P"
      },
      "execution_count": 47,
      "outputs": []
    },
    {
      "cell_type": "code",
      "source": [
        "#Use pipeline\n",
        "path='/content/drive/MyDrive/ML/cards.csv'\n",
        "attributes=['BALANCE', 'BALANCE_FREQUENCY', 'CASH_ADVANCE','CASH_ADVANCE_FREQUENCY','CASH_ADVANCE_TRX','CREDIT_LIMIT', 'PAYMENTS','MINIMUM_PAYMENTS']\n",
        "scale='minmax' #standard\n",
        "dimension_reduction= 'tsne' #pca\n",
        "components=2\n",
        "model='DBSCAN' #dbscan\n",
        "eps=0.1\n",
        "min_samples=2\n",
        "build_pipeline(path, attributes, scale, dimension_reduction, components, model,eps, min_samples)"
      ],
      "metadata": {
        "colab": {
          "base_uri": "https://localhost:8080/",
          "height": 598
        },
        "id": "D8MgPslTLQr6",
        "outputId": "0743e3a9-af16-43ab-956d-a6bb9daff842"
      },
      "execution_count": 48,
      "outputs": [
        {
          "output_type": "display_data",
          "data": {
            "image/png": "[encoded data removed]",
            "text/plain": [
              "<Figure size 432x288 with 1 Axes>"
            ]
          },
          "metadata": {
            "needs_background": "light"
          }
        },
        {
          "output_type": "stream",
          "name": "stderr",
          "text": [
            "/usr/local/lib/python3.7/dist-packages/sklearn/manifold/_t_sne.py:783: FutureWarning: The default initialization in TSNE will change from 'random' to 'pca' in 1.2.\n",
            "  FutureWarning,\n",
            "/usr/local/lib/python3.7/dist-packages/sklearn/manifold/_t_sne.py:793: FutureWarning: The default learning rate in TSNE will change from 200.0 to 'auto' in 1.2.\n",
            "  FutureWarning,\n"
          ]
        },
        {
          "output_type": "display_data",
          "data": {
            "image/png": "[encoded data removed]",
            "text/plain": [
              "<Figure size 432x288 with 1 Axes>"
            ]
          },
          "metadata": {
            "needs_background": "light"
          }
        }
      ]
    },
    {
      "cell_type": "code",
      "source": [
        "#Use pipeline\n",
        "path='/content/drive/MyDrive/ML/cards.csv'\n",
        "attributes=['BALANCE', 'BALANCE_FREQUENCY', 'CASH_ADVANCE','CASH_ADVANCE_FREQUENCY','CASH_ADVANCE_TRX','CREDIT_LIMIT', 'PAYMENTS','MINIMUM_PAYMENTS']\n",
        "scale='minmax' #standard\n",
        "dimension_reduction= 'pca' #pca\n",
        "components=2\n",
        "model='DBSCAN' #dbscan\n",
        "eps=0.1\n",
        "min_samples=2\n",
        "build_pipeline(path, attributes, scale, dimension_reduction, components, model,eps, min_samples)"
      ],
      "metadata": {
        "colab": {
          "base_uri": "https://localhost:8080/",
          "height": 529
        },
        "id": "cYxWPVeBe1UM",
        "outputId": "937a69ef-6700-4468-f350-90f9192e24a4"
      },
      "execution_count": 49,
      "outputs": [
        {
          "output_type": "display_data",
          "data": {
            "image/png": "[encoded data removed]",
            "text/plain": [
              "<Figure size 432x288 with 1 Axes>"
            ]
          },
          "metadata": {
            "needs_background": "light"
          }
        },
        {
          "output_type": "display_data",
          "data": {
            "image/png": "[encoded data removed]",
            "text/plain": [
              "<Figure size 432x288 with 1 Axes>"
            ]
          },
          "metadata": {
            "needs_background": "light"
          }
        }
      ]
    },
    {
      "cell_type": "code",
      "source": [
        "Conclusion "
      ],
      "metadata": {
        "id": "APqtfblR03Gy"
      },
      "execution_count": null,
      "outputs": []
    },
    {
      "cell_type": "markdown",
      "source": [
        "eps=1.5,min_samples=12. i am used t-distributed Stochastic Neighbor Embedding feature reduction or dimension reduction techniquedbscan modelfrom my observation balance vs credit limit its going linearly  from the visuals i am getting more number of cluster_labels"
      ],
      "metadata": {
        "id": "kuiUc_tJeF_q"
      }
    },
    {
      "cell_type": "markdown",
      "source": [
        "eps=1.5,min_samples=12. i used Principal component analysis feature reduction or dimension reduction technique dbscan modelfrom my observation balance vs credit limit its going linearly from the visuals i am getting more number of cluster_labels"
      ],
      "metadata": {
        "id": "Wj7yQgo-e6wi"
      }
    },
    {
      "cell_type": "markdown",
      "source": [
        "**comparision**"
      ],
      "metadata": {
        "id": "5Bxeu8Z0gsQj"
      }
    },
    {
      "cell_type": "markdown",
      "source": [
        "**compare the 2 feature reduction technique t-distributed Stochastic Neighbor Embedding i am getting more number of clusters so t-sne technique is a best one**"
      ],
      "metadata": {
        "id": "Xh6AyesKgwd6"
      }
    },
    {
      "cell_type": "markdown",
      "source": [
        "**from my observation i used t-distributed Stochastic Neighbor Embedding feature reduction or dimension reduction technique is useful for  the this particular data set.For n_clusters = 6 The average silhouette_score is : 0.3498988290880023**"
      ],
      "metadata": {
        "id": "IVozVpEmcdtu"
      }
    },
    {
      "cell_type": "code",
      "source": [
        ""
      ],
      "metadata": {
        "id": "femCWsMChS3m"
      },
      "execution_count": null,
      "outputs": []
    }
  ]
}